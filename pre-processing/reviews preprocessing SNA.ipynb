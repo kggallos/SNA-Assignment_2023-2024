{
 "cells": [
  {
   "cell_type": "markdown",
   "metadata": {},
   "source": [
    "## Load data and display statistics for the dataset"
   ]
  },
  {
   "cell_type": "code",
   "execution_count": 1,
   "metadata": {},
   "outputs": [],
   "source": [
    "import pandas as pd"
   ]
  },
  {
   "cell_type": "code",
   "execution_count": 2,
   "metadata": {},
   "outputs": [
    {
     "data": {
      "text/html": [
       "<div>\n",
       "<style scoped>\n",
       "    .dataframe tbody tr th:only-of-type {\n",
       "        vertical-align: middle;\n",
       "    }\n",
       "\n",
       "    .dataframe tbody tr th {\n",
       "        vertical-align: top;\n",
       "    }\n",
       "\n",
       "    .dataframe thead th {\n",
       "        text-align: right;\n",
       "    }\n",
       "</style>\n",
       "<table border=\"1\" class=\"dataframe\">\n",
       "  <thead>\n",
       "    <tr style=\"text-align: right;\">\n",
       "      <th></th>\n",
       "      <th>rotten_tomatoes_link</th>\n",
       "      <th>critic_name</th>\n",
       "      <th>top_critic</th>\n",
       "      <th>publisher_name</th>\n",
       "      <th>review_type</th>\n",
       "      <th>review_score</th>\n",
       "      <th>review_date</th>\n",
       "      <th>review_content</th>\n",
       "    </tr>\n",
       "  </thead>\n",
       "  <tbody>\n",
       "    <tr>\n",
       "      <th>0</th>\n",
       "      <td>m/0814255</td>\n",
       "      <td>Andrew L. Urban</td>\n",
       "      <td>False</td>\n",
       "      <td>Urban Cinefile</td>\n",
       "      <td>Fresh</td>\n",
       "      <td>NaN</td>\n",
       "      <td>2010-02-06</td>\n",
       "      <td>A fantasy adventure that fuses Greek mythology...</td>\n",
       "    </tr>\n",
       "    <tr>\n",
       "      <th>1</th>\n",
       "      <td>m/0814255</td>\n",
       "      <td>Louise Keller</td>\n",
       "      <td>False</td>\n",
       "      <td>Urban Cinefile</td>\n",
       "      <td>Fresh</td>\n",
       "      <td>NaN</td>\n",
       "      <td>2010-02-06</td>\n",
       "      <td>Uma Thurman as Medusa, the gorgon with a coiff...</td>\n",
       "    </tr>\n",
       "    <tr>\n",
       "      <th>2</th>\n",
       "      <td>m/0814255</td>\n",
       "      <td>NaN</td>\n",
       "      <td>False</td>\n",
       "      <td>FILMINK (Australia)</td>\n",
       "      <td>Fresh</td>\n",
       "      <td>NaN</td>\n",
       "      <td>2010-02-09</td>\n",
       "      <td>With a top-notch cast and dazzling special eff...</td>\n",
       "    </tr>\n",
       "    <tr>\n",
       "      <th>3</th>\n",
       "      <td>m/0814255</td>\n",
       "      <td>Ben McEachen</td>\n",
       "      <td>False</td>\n",
       "      <td>Sunday Mail (Australia)</td>\n",
       "      <td>Fresh</td>\n",
       "      <td>3.5/5</td>\n",
       "      <td>2010-02-09</td>\n",
       "      <td>Whether audiences will get behind The Lightnin...</td>\n",
       "    </tr>\n",
       "    <tr>\n",
       "      <th>4</th>\n",
       "      <td>m/0814255</td>\n",
       "      <td>Ethan Alter</td>\n",
       "      <td>True</td>\n",
       "      <td>Hollywood Reporter</td>\n",
       "      <td>Rotten</td>\n",
       "      <td>NaN</td>\n",
       "      <td>2010-02-10</td>\n",
       "      <td>What's really lacking in The Lightning Thief i...</td>\n",
       "    </tr>\n",
       "  </tbody>\n",
       "</table>\n",
       "</div>"
      ],
      "text/plain": [
       "  rotten_tomatoes_link      critic_name  top_critic           publisher_name  \\\n",
       "0            m/0814255  Andrew L. Urban       False           Urban Cinefile   \n",
       "1            m/0814255    Louise Keller       False           Urban Cinefile   \n",
       "2            m/0814255              NaN       False      FILMINK (Australia)   \n",
       "3            m/0814255     Ben McEachen       False  Sunday Mail (Australia)   \n",
       "4            m/0814255      Ethan Alter        True       Hollywood Reporter   \n",
       "\n",
       "  review_type review_score review_date  \\\n",
       "0       Fresh          NaN  2010-02-06   \n",
       "1       Fresh          NaN  2010-02-06   \n",
       "2       Fresh          NaN  2010-02-09   \n",
       "3       Fresh        3.5/5  2010-02-09   \n",
       "4      Rotten          NaN  2010-02-10   \n",
       "\n",
       "                                      review_content  \n",
       "0  A fantasy adventure that fuses Greek mythology...  \n",
       "1  Uma Thurman as Medusa, the gorgon with a coiff...  \n",
       "2  With a top-notch cast and dazzling special eff...  \n",
       "3  Whether audiences will get behind The Lightnin...  \n",
       "4  What's really lacking in The Lightning Thief i...  "
      ]
     },
     "execution_count": 2,
     "metadata": {},
     "output_type": "execute_result"
    }
   ],
   "source": [
    "df = pd.read_csv('../archive rotten tomatoes/rotten_tomatoes_critic_reviews.csv')#, nrows = 1000)\n",
    "df.head()"
   ]
  },
  {
   "cell_type": "code",
   "execution_count": 3,
   "metadata": {},
   "outputs": [
    {
     "data": {
      "text/html": [
       "<div>\n",
       "<style scoped>\n",
       "    .dataframe tbody tr th:only-of-type {\n",
       "        vertical-align: middle;\n",
       "    }\n",
       "\n",
       "    .dataframe tbody tr th {\n",
       "        vertical-align: top;\n",
       "    }\n",
       "\n",
       "    .dataframe thead th {\n",
       "        text-align: right;\n",
       "    }\n",
       "</style>\n",
       "<table border=\"1\" class=\"dataframe\">\n",
       "  <thead>\n",
       "    <tr style=\"text-align: right;\">\n",
       "      <th></th>\n",
       "      <th>rotten_tomatoes_link</th>\n",
       "      <th>critic_name</th>\n",
       "      <th>top_critic</th>\n",
       "      <th>publisher_name</th>\n",
       "      <th>review_type</th>\n",
       "      <th>review_score</th>\n",
       "      <th>review_date</th>\n",
       "      <th>review_content</th>\n",
       "    </tr>\n",
       "  </thead>\n",
       "  <tbody>\n",
       "    <tr>\n",
       "      <th>count</th>\n",
       "      <td>1130017</td>\n",
       "      <td>1111488</td>\n",
       "      <td>1130017</td>\n",
       "      <td>1130017</td>\n",
       "      <td>1130017</td>\n",
       "      <td>824081</td>\n",
       "      <td>1130017</td>\n",
       "      <td>1064211</td>\n",
       "    </tr>\n",
       "    <tr>\n",
       "      <th>unique</th>\n",
       "      <td>17712</td>\n",
       "      <td>11108</td>\n",
       "      <td>2</td>\n",
       "      <td>2230</td>\n",
       "      <td>2</td>\n",
       "      <td>814</td>\n",
       "      <td>8015</td>\n",
       "      <td>949181</td>\n",
       "    </tr>\n",
       "    <tr>\n",
       "      <th>top</th>\n",
       "      <td>m/star_wars_the_rise_of_skywalker</td>\n",
       "      <td>Emanuel Levy</td>\n",
       "      <td>False</td>\n",
       "      <td>New York Times</td>\n",
       "      <td>Fresh</td>\n",
       "      <td>3/5</td>\n",
       "      <td>2000-01-01</td>\n",
       "      <td>Parental Content Review</td>\n",
       "    </tr>\n",
       "    <tr>\n",
       "      <th>freq</th>\n",
       "      <td>992</td>\n",
       "      <td>8173</td>\n",
       "      <td>841481</td>\n",
       "      <td>13293</td>\n",
       "      <td>720210</td>\n",
       "      <td>90273</td>\n",
       "      <td>48019</td>\n",
       "      <td>267</td>\n",
       "    </tr>\n",
       "  </tbody>\n",
       "</table>\n",
       "</div>"
      ],
      "text/plain": [
       "                     rotten_tomatoes_link   critic_name top_critic  \\\n",
       "count                             1130017       1111488    1130017   \n",
       "unique                              17712         11108          2   \n",
       "top     m/star_wars_the_rise_of_skywalker  Emanuel Levy      False   \n",
       "freq                                  992          8173     841481   \n",
       "\n",
       "        publisher_name review_type review_score review_date  \\\n",
       "count          1130017     1130017       824081     1130017   \n",
       "unique            2230           2          814        8015   \n",
       "top     New York Times       Fresh          3/5  2000-01-01   \n",
       "freq             13293      720210        90273       48019   \n",
       "\n",
       "                 review_content  \n",
       "count                   1064211  \n",
       "unique                   949181  \n",
       "top     Parental Content Review  \n",
       "freq                        267  "
      ]
     },
     "execution_count": 3,
     "metadata": {},
     "output_type": "execute_result"
    }
   ],
   "source": [
    "df.describe(include='all')"
   ]
  },
  {
   "cell_type": "code",
   "execution_count": 4,
   "metadata": {},
   "outputs": [
    {
     "name": "stdout",
     "output_type": "stream",
     "text": [
      "<class 'pandas.core.frame.DataFrame'>\n",
      "RangeIndex: 1130017 entries, 0 to 1130016\n",
      "Data columns (total 8 columns):\n",
      " #   Column                Non-Null Count    Dtype \n",
      "---  ------                --------------    ----- \n",
      " 0   rotten_tomatoes_link  1130017 non-null  object\n",
      " 1   critic_name           1111488 non-null  object\n",
      " 2   top_critic            1130017 non-null  bool  \n",
      " 3   publisher_name        1130017 non-null  object\n",
      " 4   review_type           1130017 non-null  object\n",
      " 5   review_score          824081 non-null   object\n",
      " 6   review_date           1130017 non-null  object\n",
      " 7   review_content        1064211 non-null  object\n",
      "dtypes: bool(1), object(7)\n",
      "memory usage: 61.4+ MB\n"
     ]
    }
   ],
   "source": [
    "df.info()"
   ]
  },
  {
   "cell_type": "markdown",
   "metadata": {},
   "source": [
    "## Cleaning data"
   ]
  },
  {
   "cell_type": "markdown",
   "metadata": {},
   "source": [
    "#### remove duplicated rows (edges)"
   ]
  },
  {
   "cell_type": "code",
   "execution_count": 5,
   "metadata": {},
   "outputs": [
    {
     "data": {
      "text/plain": [
       "0"
      ]
     },
     "execution_count": 5,
     "metadata": {},
     "output_type": "execute_result"
    }
   ],
   "source": [
    "# Keep the last row for each unique combination of ['rotten_tomatoes_link', 'critic_name']\n",
    "df.drop_duplicates(subset=['rotten_tomatoes_link', 'critic_name'], keep='last', inplace=True)\n",
    "df[df.duplicated(['rotten_tomatoes_link', 'critic_name'], keep=False)].shape[0] # print duplicate_rows"
   ]
  },
  {
   "cell_type": "markdown",
   "metadata": {},
   "source": [
    "#### critic_name"
   ]
  },
  {
   "cell_type": "code",
   "execution_count": 6,
   "metadata": {},
   "outputs": [
    {
     "name": "stdout",
     "output_type": "stream",
     "text": [
      "7121\n"
     ]
    }
   ],
   "source": [
    "rows = df.shape[0]\n",
    "df = df.dropna(subset=['critic_name']) # drop rows containing NaN\n",
    "print(f'{rows - df.shape[0]}')"
   ]
  },
  {
   "cell_type": "markdown",
   "metadata": {},
   "source": [
    "#### top_critic and review_type"
   ]
  },
  {
   "cell_type": "code",
   "execution_count": 7,
   "metadata": {},
   "outputs": [
    {
     "data": {
      "text/plain": [
       "review_type\n",
       "1    630678\n",
       "0    358671\n",
       "Name: count, dtype: int64"
      ]
     },
     "execution_count": 7,
     "metadata": {},
     "output_type": "execute_result"
    }
   ],
   "source": [
    "df['top_critic'] = df['top_critic'].astype(int)\n",
    "df.loc[:, 'review_type'] = df['review_type'].apply(lambda x: 1 if x == 'Fresh' else 0 if x == 'Rotten' else x)\n",
    "df['review_type'].value_counts()"
   ]
  },
  {
   "cell_type": "markdown",
   "metadata": {},
   "source": [
    "#### review_score"
   ]
  },
  {
   "cell_type": "code",
   "execution_count": 8,
   "metadata": {},
   "outputs": [],
   "source": [
    "# Drop NaN values. We could use review_content with NLP to impute missing values\n",
    "\n",
    "df = df.dropna(subset=['review_score']) # drop rows containing NaN"
   ]
  },
  {
   "cell_type": "code",
   "execution_count": 9,
   "metadata": {},
   "outputs": [
    {
     "name": "stdout",
     "output_type": "stream",
     "text": [
      "review_score\n",
      "3/5         78613\n",
      "4/5         72927\n",
      "3/4         63367\n",
      "2/5         52428\n",
      "2/4         41600\n",
      "            ...  \n",
      "8.666/10        1\n",
      "0.96/10         1\n",
      "7.10/10         1\n",
      "3.021/10        1\n",
      "9.56/10         1\n",
      "Name: count, Length: 813, dtype: int64\n"
     ]
    }
   ],
   "source": [
    "print(df['review_score'].value_counts())    "
   ]
  },
  {
   "cell_type": "code",
   "execution_count": 10,
   "metadata": {},
   "outputs": [],
   "source": [
    "def convert_review_score(value):\n",
    "    ''' scale a score between 0 and 100'''\n",
    "    if value is None:\n",
    "        return None\n",
    "\n",
    "    try:\n",
    "        return float(value)\n",
    "    except Exception:\n",
    "        try:\n",
    "            numerator = float(value.split('/')[0])\n",
    "            divisor = float(value.split('/')[1])\n",
    "\n",
    "            if divisor == 0:\n",
    "                return None\n",
    "\n",
    "            converted_value = round((numerator / divisor) * 100, 1)\n",
    "            return converted_value\n",
    "        except (ValueError, AttributeError):\n",
    "\n",
    "            grade_mapping = {'A': 90, 'A-': 85, 'B+': 80, 'B': 75, 'B-': 70, \n",
    "                             'C+': 65, 'C': 60, 'C-': 55, 'D+': 50, 'D': 45, 'D-': 40, 'F': 0}\n",
    "\n",
    "            if value in grade_mapping:\n",
    "                return grade_mapping[value]\n",
    "            else:\n",
    "                return None"
   ]
  },
  {
   "cell_type": "code",
   "execution_count": 11,
   "metadata": {},
   "outputs": [
    {
     "data": {
      "text/plain": [
       "0"
      ]
     },
     "execution_count": 11,
     "metadata": {},
     "output_type": "execute_result"
    }
   ],
   "source": [
    "df['review_score'].isna().sum()#.sum()"
   ]
  },
  {
   "cell_type": "code",
   "execution_count": 12,
   "metadata": {},
   "outputs": [],
   "source": [
    "df['review_score'] = df['review_score'].apply(convert_review_score)\n",
    "df = df[df['review_score'] <= 100]\t# also drops None\n",
    "df['review_score_scaled'] = pd.cut(x=df['review_score'], bins=[0, 5, 15, 25, 35, 45, 55, 65, 75, 85, 95, 100],\n",
    "\t\t\t\t\tlabels=[0,1,2,3,4,5,6,7,8,9,10 ] )"
   ]
  },
  {
   "cell_type": "code",
   "execution_count": 13,
   "metadata": {},
   "outputs": [
    {
     "name": "stdout",
     "output_type": "stream",
     "text": [
      "6082\n"
     ]
    },
    {
     "data": {
      "text/plain": [
       "0"
      ]
     },
     "execution_count": 13,
     "metadata": {},
     "output_type": "execute_result"
    }
   ],
   "source": [
    "print(df['review_score_scaled'].isna().sum())\n",
    "df = df.dropna(subset=['review_score_scaled']) # drop rows containing NaN\n",
    "df['review_score_scaled'].isna().sum()"
   ]
  },
  {
   "cell_type": "code",
   "execution_count": 14,
   "metadata": {},
   "outputs": [
    {
     "name": "stdout",
     "output_type": "stream",
     "text": [
      "review_score_scaled\n",
      "6     151097\n",
      "7     140455\n",
      "8     114242\n",
      "4      82787\n",
      "5      79878\n",
      "9      57081\n",
      "10     39210\n",
      "2      33015\n",
      "3      10652\n",
      "1       4875\n",
      "0       1020\n",
      "Name: count, dtype: int64\n"
     ]
    }
   ],
   "source": [
    "print(df['review_score_scaled'].value_counts())"
   ]
  },
  {
   "cell_type": "code",
   "execution_count": 15,
   "metadata": {},
   "outputs": [
    {
     "data": {
      "text/plain": [
       "review_score_scaled    0\n",
       "top_critic             0\n",
       "review_type            0\n",
       "dtype: int64"
      ]
     },
     "execution_count": 15,
     "metadata": {},
     "output_type": "execute_result"
    }
   ],
   "source": [
    "used_features = ['review_score_scaled', 'top_critic', 'review_type']\n",
    "\n",
    "df[used_features].isna().sum()"
   ]
  },
  {
   "cell_type": "code",
   "execution_count": 16,
   "metadata": {},
   "outputs": [
    {
     "name": "stdout",
     "output_type": "stream",
     "text": [
      "(714312, 3)\n",
      "[[7 0 1]\n",
      " [2 0 0]\n",
      " [7 1 1]\n",
      " ...\n",
      " [8 0 1]\n",
      " [7 0 0]\n",
      " [6 0 0]]\n"
     ]
    }
   ],
   "source": [
    "print(df[used_features].to_numpy().shape)\n",
    "print(df[used_features].to_numpy())"
   ]
  },
  {
   "cell_type": "code",
   "execution_count": 17,
   "metadata": {},
   "outputs": [
    {
     "data": {
      "text/html": [
       "<div>\n",
       "<style scoped>\n",
       "    .dataframe tbody tr th:only-of-type {\n",
       "        vertical-align: middle;\n",
       "    }\n",
       "\n",
       "    .dataframe tbody tr th {\n",
       "        vertical-align: top;\n",
       "    }\n",
       "\n",
       "    .dataframe thead th {\n",
       "        text-align: right;\n",
       "    }\n",
       "</style>\n",
       "<table border=\"1\" class=\"dataframe\">\n",
       "  <thead>\n",
       "    <tr style=\"text-align: right;\">\n",
       "      <th></th>\n",
       "      <th>rotten_tomatoes_link</th>\n",
       "      <th>critic_name</th>\n",
       "      <th>review_score_scaled</th>\n",
       "      <th>top_critic</th>\n",
       "      <th>review_type</th>\n",
       "    </tr>\n",
       "  </thead>\n",
       "  <tbody>\n",
       "    <tr>\n",
       "      <th>3</th>\n",
       "      <td>m/0814255</td>\n",
       "      <td>Ben McEachen</td>\n",
       "      <td>7</td>\n",
       "      <td>0</td>\n",
       "      <td>1</td>\n",
       "    </tr>\n",
       "    <tr>\n",
       "      <th>6</th>\n",
       "      <td>m/0814255</td>\n",
       "      <td>Nick Schager</td>\n",
       "      <td>2</td>\n",
       "      <td>0</td>\n",
       "      <td>0</td>\n",
       "    </tr>\n",
       "    <tr>\n",
       "      <th>7</th>\n",
       "      <td>m/0814255</td>\n",
       "      <td>Bill Goodykoontz</td>\n",
       "      <td>7</td>\n",
       "      <td>1</td>\n",
       "      <td>1</td>\n",
       "    </tr>\n",
       "    <tr>\n",
       "      <th>8</th>\n",
       "      <td>m/0814255</td>\n",
       "      <td>Jordan Hoffman</td>\n",
       "      <td>7</td>\n",
       "      <td>0</td>\n",
       "      <td>1</td>\n",
       "    </tr>\n",
       "    <tr>\n",
       "      <th>9</th>\n",
       "      <td>m/0814255</td>\n",
       "      <td>Jim Schembri</td>\n",
       "      <td>6</td>\n",
       "      <td>1</td>\n",
       "      <td>1</td>\n",
       "    </tr>\n",
       "    <tr>\n",
       "      <th>...</th>\n",
       "      <td>...</td>\n",
       "      <td>...</td>\n",
       "      <td>...</td>\n",
       "      <td>...</td>\n",
       "      <td>...</td>\n",
       "    </tr>\n",
       "    <tr>\n",
       "      <th>1130012</th>\n",
       "      <td>m/zulu_dawn</td>\n",
       "      <td>Chuck O'Leary</td>\n",
       "      <td>4</td>\n",
       "      <td>0</td>\n",
       "      <td>0</td>\n",
       "    </tr>\n",
       "    <tr>\n",
       "      <th>1130013</th>\n",
       "      <td>m/zulu_dawn</td>\n",
       "      <td>Ken Hanke</td>\n",
       "      <td>7</td>\n",
       "      <td>0</td>\n",
       "      <td>1</td>\n",
       "    </tr>\n",
       "    <tr>\n",
       "      <th>1130014</th>\n",
       "      <td>m/zulu_dawn</td>\n",
       "      <td>Dennis Schwartz</td>\n",
       "      <td>8</td>\n",
       "      <td>0</td>\n",
       "      <td>1</td>\n",
       "    </tr>\n",
       "    <tr>\n",
       "      <th>1130015</th>\n",
       "      <td>m/zulu_dawn</td>\n",
       "      <td>Christopher Lloyd</td>\n",
       "      <td>7</td>\n",
       "      <td>0</td>\n",
       "      <td>0</td>\n",
       "    </tr>\n",
       "    <tr>\n",
       "      <th>1130016</th>\n",
       "      <td>m/zulu_dawn</td>\n",
       "      <td>Brent McKnight</td>\n",
       "      <td>6</td>\n",
       "      <td>0</td>\n",
       "      <td>0</td>\n",
       "    </tr>\n",
       "  </tbody>\n",
       "</table>\n",
       "<p>714312 rows × 5 columns</p>\n",
       "</div>"
      ],
      "text/plain": [
       "        rotten_tomatoes_link        critic_name review_score_scaled  \\\n",
       "3                  m/0814255       Ben McEachen                   7   \n",
       "6                  m/0814255       Nick Schager                   2   \n",
       "7                  m/0814255   Bill Goodykoontz                   7   \n",
       "8                  m/0814255     Jordan Hoffman                   7   \n",
       "9                  m/0814255       Jim Schembri                   6   \n",
       "...                      ...                ...                 ...   \n",
       "1130012          m/zulu_dawn      Chuck O'Leary                   4   \n",
       "1130013          m/zulu_dawn          Ken Hanke                   7   \n",
       "1130014          m/zulu_dawn    Dennis Schwartz                   8   \n",
       "1130015          m/zulu_dawn  Christopher Lloyd                   7   \n",
       "1130016          m/zulu_dawn     Brent McKnight                   6   \n",
       "\n",
       "         top_critic review_type  \n",
       "3                 0           1  \n",
       "6                 0           0  \n",
       "7                 1           1  \n",
       "8                 0           1  \n",
       "9                 1           1  \n",
       "...             ...         ...  \n",
       "1130012           0           0  \n",
       "1130013           0           1  \n",
       "1130014           0           1  \n",
       "1130015           0           0  \n",
       "1130016           0           0  \n",
       "\n",
       "[714312 rows x 5 columns]"
      ]
     },
     "execution_count": 17,
     "metadata": {},
     "output_type": "execute_result"
    }
   ],
   "source": [
    "df[['rotten_tomatoes_link','critic_name']+used_features]"
   ]
  },
  {
   "cell_type": "markdown",
   "metadata": {},
   "source": [
    "## Save data"
   ]
  },
  {
   "cell_type": "code",
   "execution_count": 18,
   "metadata": {},
   "outputs": [],
   "source": [
    "dd = df[['critic_name','rotten_tomatoes_link']+used_features]"
   ]
  },
  {
   "cell_type": "code",
   "execution_count": 19,
   "metadata": {},
   "outputs": [],
   "source": [
    "dd = dd.rename({'critic_name':'Source', 'rotten_tomatoes_link':'Target'},axis=1)\n",
    "dd.to_csv('../data/reviews.csv',index=False)"
   ]
  },
  {
   "cell_type": "code",
   "execution_count": 20,
   "metadata": {},
   "outputs": [],
   "source": [
    "dd.loc[:1000].to_csv('../data/reviews_small.csv',index=False)"
   ]
  }
 ],
 "metadata": {
  "kernelspec": {
   "display_name": "Python 3",
   "language": "python",
   "name": "python3"
  },
  "language_info": {
   "codemirror_mode": {
    "name": "ipython",
    "version": 3
   },
   "file_extension": ".py",
   "mimetype": "text/x-python",
   "name": "python",
   "nbconvert_exporter": "python",
   "pygments_lexer": "ipython3",
   "version": "3.12.1"
  }
 },
 "nbformat": 4,
 "nbformat_minor": 2
}
